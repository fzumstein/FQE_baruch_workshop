{
 "cells": [
  {
   "cell_type": "markdown",
   "id": "70d0f83a",
   "metadata": {},
   "source": [
    "# Jupyter Notebook Basics"
   ]
  },
  {
   "cell_type": "markdown",
   "id": "adc2c538",
   "metadata": {},
   "source": [
    "**Cell modes**: There are different cell modes, the most important ones are:\n",
    "\n",
    "* Code\n",
    "* Markdown\n",
    "\n",
    "This cell is written with Markdown. Double-click it to see the source.\n",
    "\n",
    "**Edit vs. Command Mode**\n",
    "\n",
    "* Edit mode: click into a cell or hit `Enter`\n",
    "* Command mode: hit ESC\n",
    "\n",
    "**Keyboard shortcuts (command mode)**\n",
    "\n",
    "* `Shift+Enter`: Run the cell\n",
    "* `↑ (up-arrow)` and `↓ (down-arrow)`: Move cell selector up or down\n",
    "* `b` and `a`: Insert a new cell *below* or *above*\n",
    "* `dd`: Delete the current cell\n",
    "* `m`: Switch cell type to Markdown\n",
    "* `y`: Switch cell type to code"
   ]
  },
  {
   "cell_type": "markdown",
   "id": "59f01c4f",
   "metadata": {},
   "source": [
    "# Python Basics"
   ]
  },
  {
   "cell_type": "markdown",
   "id": "b8c3ce13",
   "metadata": {},
   "source": [
    "### Get access to additional functionality by *importing* packages"
   ]
  },
  {
   "cell_type": "code",
   "execution_count": null,
   "id": "5b317b18",
   "metadata": {},
   "outputs": [],
   "source": [
    "import math\n",
    "math.sqrt(49)"
   ]
  },
  {
   "cell_type": "markdown",
   "id": "157779c4",
   "metadata": {},
   "source": [
    "### Everything is an object. Objects have attributes and methods."
   ]
  },
  {
   "cell_type": "code",
   "execution_count": null,
   "id": "7b024ebe",
   "metadata": {},
   "outputs": [],
   "source": [
    "import datetime as dt\n",
    "timestamp = dt.datetime(2020, 1, 31, 14, 30) # timestamp is a datetime object\n",
    "timestamp"
   ]
  },
  {
   "cell_type": "code",
   "execution_count": null,
   "id": "9c361981",
   "metadata": {},
   "outputs": [],
   "source": [
    "timestamp.year  # attribute (no brackets)"
   ]
  },
  {
   "cell_type": "code",
   "execution_count": null,
   "id": "16cf4a1d",
   "metadata": {},
   "outputs": [],
   "source": [
    "timestamp.strftime('%Y-%m-%d')  # method (brackets) \"string format time\""
   ]
  },
  {
   "cell_type": "markdown",
   "id": "25dc20c1",
   "metadata": {},
   "source": [
    "### Lists and Dictionaries are the most important data structures"
   ]
  },
  {
   "cell_type": "code",
   "execution_count": null,
   "id": "2ea0f32f",
   "metadata": {},
   "outputs": [],
   "source": [
    "# List\n",
    "file_names = [\"one.xlsx\", \"two.xlsx\", \"three.xlsx\", \"four.xlsx\"]"
   ]
  },
  {
   "cell_type": "code",
   "execution_count": null,
   "id": "d774ff2e",
   "metadata": {},
   "outputs": [],
   "source": [
    "# Dictionary\n",
    "exchange_rates = {\"EURUSD\": 1.1152, \"GBPUSD\": 1.2454, \"AUDUSD\": 0.6161}"
   ]
  },
  {
   "cell_type": "markdown",
   "id": "a65ec049",
   "metadata": {},
   "source": [
    "### Indexing and Slicing"
   ]
  },
  {
   "cell_type": "code",
   "execution_count": null,
   "id": "b0ece4b7",
   "metadata": {},
   "outputs": [],
   "source": [
    "# Python is zero-based (unlike Excel)\n",
    "file_names[0]"
   ]
  },
  {
   "cell_type": "code",
   "execution_count": null,
   "id": "cd065393",
   "metadata": {},
   "outputs": [],
   "source": [
    "file_names[1:3]"
   ]
  },
  {
   "cell_type": "code",
   "execution_count": null,
   "id": "0422132a",
   "metadata": {},
   "outputs": [],
   "source": [
    "file_names[1:]"
   ]
  },
  {
   "cell_type": "code",
   "execution_count": null,
   "id": "687c37ea",
   "metadata": {},
   "outputs": [],
   "source": [
    "file_names[:]"
   ]
  },
  {
   "cell_type": "markdown",
   "id": "9c7ff67e",
   "metadata": {},
   "source": [
    "### Accessing Dictionary elements"
   ]
  },
  {
   "cell_type": "code",
   "execution_count": null,
   "id": "c5966796",
   "metadata": {},
   "outputs": [],
   "source": [
    "exchange_rates['EURUSD']"
   ]
  },
  {
   "cell_type": "markdown",
   "id": "5f635e68",
   "metadata": {},
   "source": [
    "### For loops"
   ]
  },
  {
   "cell_type": "code",
   "execution_count": null,
   "id": "ac555f83",
   "metadata": {},
   "outputs": [],
   "source": [
    "for file_name in file_names:\n",
    "    print(file_name)"
   ]
  },
  {
   "cell_type": "markdown",
   "id": "4ec740bb",
   "metadata": {},
   "source": [
    "### Functions"
   ]
  },
  {
   "cell_type": "code",
   "execution_count": null,
   "id": "181e7d94",
   "metadata": {},
   "outputs": [],
   "source": [
    "def fahrenheit_to_celsius(degrees):\n",
    "    return (degrees-32) * (5/9)"
   ]
  },
  {
   "cell_type": "code",
   "execution_count": null,
   "id": "da1d3fbd",
   "metadata": {},
   "outputs": [],
   "source": [
    "fahrenheit_to_celsius(100)"
   ]
  },
  {
   "cell_type": "markdown",
   "id": "44591cfb",
   "metadata": {},
   "source": [
    "# Pandas Basics"
   ]
  },
  {
   "cell_type": "code",
   "execution_count": null,
   "id": "2674280f",
   "metadata": {},
   "outputs": [],
   "source": [
    "import pandas as pd\n",
    "import numpy as np\n",
    "pd.options.plotting.backend = \"plotly\""
   ]
  },
  {
   "cell_type": "markdown",
   "id": "cb7a01ad",
   "metadata": {},
   "source": [
    "### A DataFrame has an Index, Columns, and Data"
   ]
  },
  {
   "cell_type": "code",
   "execution_count": null,
   "id": "29f0daad",
   "metadata": {},
   "outputs": [],
   "source": [
    "# Index ~ observations, Columns ~ variables\n",
    "df = pd.DataFrame(data={\"NYC\": [300.1, 100.2, 123.45],\n",
    "                        \"Chicago\": [400.3, 300.4, 334.2],\n",
    "                        \"San Francisco\": [1000.5, 1100.6, 993.4]})"
   ]
  },
  {
   "cell_type": "markdown",
   "id": "7602afad",
   "metadata": {},
   "source": [
    "### GOTCHA: methods return copies!"
   ]
  },
  {
   "cell_type": "code",
   "execution_count": null,
   "id": "62d5d1a9",
   "metadata": {},
   "outputs": [],
   "source": [
    "df.sort_values('NYC')"
   ]
  },
  {
   "cell_type": "code",
   "execution_count": null,
   "id": "c86e3c4f",
   "metadata": {},
   "outputs": [],
   "source": [
    "# df is unchanged\n",
    "df"
   ]
  },
  {
   "cell_type": "code",
   "execution_count": null,
   "id": "bcf5a090",
   "metadata": {},
   "outputs": [],
   "source": [
    "# If you want to change the original DataFrame, do this:\n",
    "df = df.sort_values('NYC')\n",
    "df"
   ]
  },
  {
   "cell_type": "markdown",
   "id": "ea150c3b",
   "metadata": {},
   "source": [
    "### Data Selection"
   ]
  },
  {
   "cell_type": "code",
   "execution_count": null,
   "id": "3715e0f2",
   "metadata": {},
   "outputs": [],
   "source": [
    "# Label-based data selection\n",
    "df.loc[:, ['Chicago']]"
   ]
  },
  {
   "cell_type": "code",
   "execution_count": null,
   "id": "f1f87ee0",
   "metadata": {},
   "outputs": [],
   "source": [
    "df.loc[[0, 1], ['Chicago', 'NYC']]"
   ]
  },
  {
   "cell_type": "code",
   "execution_count": null,
   "id": "b69564cf",
   "metadata": {},
   "outputs": [],
   "source": [
    "# Integer-based data selection\n",
    "df.iloc[0, 0]"
   ]
  },
  {
   "cell_type": "code",
   "execution_count": null,
   "id": "d179a60b",
   "metadata": {},
   "outputs": [],
   "source": [
    "df.iloc[:2, :2]"
   ]
  },
  {
   "cell_type": "markdown",
   "id": "da75ca11",
   "metadata": {},
   "source": [
    "### GOTCHA: Series (1d) vs DataFrames (2d)"
   ]
  },
  {
   "cell_type": "code",
   "execution_count": null,
   "id": "9610d251",
   "metadata": {},
   "outputs": [],
   "source": [
    "# This is a pandas Series (1d)\n",
    "# Series have many things in common with 2d DataFrames, but\n",
    "# they don't do data alignment (we'll see further down what that is)\n",
    "df.loc[:, 'Chicago']"
   ]
  },
  {
   "cell_type": "markdown",
   "id": "860bc684",
   "metadata": {},
   "source": [
    "### Column selection shortcut"
   ]
  },
  {
   "cell_type": "code",
   "execution_count": null,
   "id": "485aeb2a",
   "metadata": {},
   "outputs": [],
   "source": [
    "# df.loc[:, 'Chicago'] is the same as:\n",
    "df['Chicago']"
   ]
  },
  {
   "cell_type": "markdown",
   "id": "d4ae09a6",
   "metadata": {},
   "source": [
    "### Vectorization and Data Alignment"
   ]
  },
  {
   "cell_type": "code",
   "execution_count": null,
   "id": "86805d3d",
   "metadata": {},
   "outputs": [],
   "source": [
    "# elementwise without loops (\"vectorization\")\n",
    "df"
   ]
  },
  {
   "cell_type": "code",
   "execution_count": null,
   "id": "3f999418",
   "metadata": {},
   "outputs": [],
   "source": [
    "df * 10"
   ]
  },
  {
   "cell_type": "code",
   "execution_count": null,
   "id": "b7729db5",
   "metadata": {},
   "outputs": [],
   "source": [
    "df['NYC'] + df['Chicago']"
   ]
  },
  {
   "cell_type": "code",
   "execution_count": null,
   "id": "ba3be938",
   "metadata": {},
   "outputs": [],
   "source": [
    "df2 = pd.DataFrame(data={\"San Francisco\": [10.1, 10.2, 12.4],\n",
    "                        \"NYC\": [11.1, 10.2, 12.45],\n",
    "                        \"Chicago\": [40.3, 30.4, 33.2]})\n",
    "df2"
   ]
  },
  {
   "cell_type": "code",
   "execution_count": null,
   "id": "e4bc3adc",
   "metadata": {},
   "outputs": [],
   "source": [
    "df"
   ]
  },
  {
   "cell_type": "code",
   "execution_count": null,
   "id": "13c8a832",
   "metadata": {},
   "outputs": [],
   "source": [
    "df + df2"
   ]
  },
  {
   "cell_type": "markdown",
   "id": "7fbf5dc1",
   "metadata": {},
   "source": [
    "# Time Series Analysis with pandas and Plotly"
   ]
  },
  {
   "cell_type": "code",
   "execution_count": null,
   "id": "cce680a7",
   "metadata": {},
   "outputs": [],
   "source": [
    "# Read a sheet of an Excel file\n",
    "msft = pd.read_excel(\"xlsx/MSFT.xlsx\")\n",
    "msft"
   ]
  },
  {
   "cell_type": "code",
   "execution_count": null,
   "id": "c09410b2",
   "metadata": {},
   "outputs": [],
   "source": [
    "msft.info()"
   ]
  },
  {
   "cell_type": "code",
   "execution_count": null,
   "id": "22ca5cab",
   "metadata": {},
   "outputs": [],
   "source": [
    "msft.describe()"
   ]
  },
  {
   "cell_type": "code",
   "execution_count": null,
   "id": "b90c9fc4",
   "metadata": {},
   "outputs": [],
   "source": [
    "msft = msft.sort_index()"
   ]
  },
  {
   "cell_type": "code",
   "execution_count": null,
   "id": "9fffc157",
   "metadata": {},
   "outputs": [],
   "source": [
    "msft = msft.set_index('Date')\n",
    "msft"
   ]
  },
  {
   "cell_type": "markdown",
   "id": "45205bfa",
   "metadata": {},
   "source": [
    "### Powerful selection based on date strings"
   ]
  },
  {
   "cell_type": "code",
   "execution_count": null,
   "id": "e689cfcd",
   "metadata": {},
   "outputs": [],
   "source": [
    "msft.loc[\"2019\", \"Adj Close\"]"
   ]
  },
  {
   "cell_type": "code",
   "execution_count": null,
   "id": "b3da1bb7",
   "metadata": {},
   "outputs": [],
   "source": [
    "msft.loc[\"2019-06\":\"2020-05\", \"Adj Close\"].plot()"
   ]
  },
  {
   "cell_type": "markdown",
   "id": "8adec4ce",
   "metadata": {},
   "source": [
    "## Shifting and Percentage Changes"
   ]
  },
  {
   "cell_type": "code",
   "execution_count": null,
   "id": "96fd7b0c",
   "metadata": {},
   "outputs": [],
   "source": [
    "msft_close = msft.loc[:, [\"Adj Close\"]].copy()"
   ]
  },
  {
   "cell_type": "code",
   "execution_count": null,
   "id": "3e4f23d6",
   "metadata": {},
   "outputs": [],
   "source": [
    "msft_close.head()"
   ]
  },
  {
   "cell_type": "code",
   "execution_count": null,
   "id": "a1733663",
   "metadata": {},
   "outputs": [],
   "source": [
    "msft_close.shift(1).head()"
   ]
  },
  {
   "cell_type": "code",
   "execution_count": null,
   "id": "d9b771dc",
   "metadata": {},
   "outputs": [],
   "source": [
    "returns = np.log(msft_close / msft_close.shift(1))\n",
    "returns = returns.rename(columns={\"Adj Close\": \"returns\"})\n",
    "returns.head()"
   ]
  },
  {
   "cell_type": "code",
   "execution_count": null,
   "id": "2c6ab135",
   "metadata": {},
   "outputs": [],
   "source": [
    "# Plot a histogram with the daily log returns\n",
    "returns.plot.hist()"
   ]
  },
  {
   "cell_type": "code",
   "execution_count": null,
   "id": "265ede5d",
   "metadata": {},
   "outputs": [],
   "source": [
    "# Simple Returns\n",
    "simple_rets = msft_close.pct_change()\n",
    "simple_rets = simple_rets.rename(columns={\"Adj Close\": \"simple rets\"})\n",
    "simple_rets.head()"
   ]
  },
  {
   "cell_type": "markdown",
   "id": "eb27183a",
   "metadata": {},
   "source": [
    "# Rebasing and Correlation"
   ]
  },
  {
   "cell_type": "code",
   "execution_count": null,
   "id": "acc0fe90",
   "metadata": {},
   "outputs": [],
   "source": [
    "parts = []  # List to collect individual DataFrames\n",
    "for ticker in [\"AAPL\", \"AMZN\", \"GOOGL\", \"MSFT\"]:\n",
    "    # \"usecols\" allows us to only read in the Date and Adj Close\n",
    "    adj_close = pd.read_excel(f\"xlsx/{ticker}.xlsx\",\n",
    "                            index_col=\"Date\", parse_dates=[\"Date\"],\n",
    "                            usecols=[\"Date\", \"Adj Close\"])\n",
    "    # Rename the column into the ticker symbol\n",
    "    adj_close = adj_close.rename(columns={\"Adj Close\": ticker})\n",
    "    # Append the stock's DataFrame to the parts list\n",
    "    parts.append(adj_close)"
   ]
  },
  {
   "cell_type": "code",
   "execution_count": null,
   "id": "810e31a0",
   "metadata": {},
   "outputs": [],
   "source": [
    "# Data alignment at work: Combine the 4 DataFrames into a single DataFrame\n",
    "adj_close = pd.concat(parts, axis=1)\n",
    "adj_close"
   ]
  },
  {
   "cell_type": "code",
   "execution_count": null,
   "id": "4e4dcb12",
   "metadata": {},
   "outputs": [],
   "source": [
    "# Only use rows where we have data for all stocks\n",
    "adj_close = adj_close.dropna()\n",
    "adj_close.info()"
   ]
  },
  {
   "cell_type": "markdown",
   "id": "575f1f93",
   "metadata": {},
   "source": [
    "### Let's write a DataFrame to a new Excel file"
   ]
  },
  {
   "cell_type": "code",
   "execution_count": null,
   "id": "cad9f876",
   "metadata": {},
   "outputs": [],
   "source": [
    "adj_close.to_excel('adj_close.xlsx')"
   ]
  },
  {
   "cell_type": "code",
   "execution_count": null,
   "id": "a59a3b19",
   "metadata": {},
   "outputs": [],
   "source": [
    "# Use a sample from June 2019 - May 2020\n",
    "adj_close_sample = adj_close.loc[\"2019-06\":\"2020-05\", :]\n",
    "rebased_prices = adj_close_sample / adj_close_sample.iloc[0, :] * 100\n",
    "rebased_prices.head(2)"
   ]
  },
  {
   "cell_type": "code",
   "execution_count": null,
   "id": "b3fbf15a",
   "metadata": {},
   "outputs": [],
   "source": [
    "rebased_prices.plot()"
   ]
  },
  {
   "cell_type": "code",
   "execution_count": null,
   "id": "42b583b0",
   "metadata": {},
   "outputs": [],
   "source": [
    "# Correlation of daily log returns\n",
    "returns = np.log(adj_close / adj_close.shift(1))\n",
    "returns.corr()"
   ]
  },
  {
   "cell_type": "code",
   "execution_count": null,
   "id": "446a8be2",
   "metadata": {},
   "outputs": [],
   "source": [
    "import plotly.express as px"
   ]
  },
  {
   "cell_type": "code",
   "execution_count": null,
   "id": "900c2880",
   "metadata": {},
   "outputs": [],
   "source": [
    "fig = px.imshow(returns.corr(),\n",
    "                x=adj_close.columns,\n",
    "                y=adj_close.columns,\n",
    "                color_continuous_scale=list(\n",
    "                    reversed(px.colors.sequential.RdBu)),\n",
    "                zmin=-1, zmax=1)\n",
    "fig.show()"
   ]
  },
  {
   "cell_type": "markdown",
   "id": "0169d3f9",
   "metadata": {},
   "source": [
    "## Resampling"
   ]
  },
  {
   "cell_type": "code",
   "execution_count": null,
   "id": "6b43455a",
   "metadata": {},
   "outputs": [],
   "source": [
    "# Downsampling\n",
    "end_of_month = adj_close.resample(\"M\").last()\n",
    "end_of_month.head()"
   ]
  },
  {
   "cell_type": "code",
   "execution_count": null,
   "id": "b9ddfe59",
   "metadata": {},
   "outputs": [],
   "source": [
    "# Upsampling\n",
    "end_of_month.resample(\"D\").asfreq().head()  # No transformation"
   ]
  },
  {
   "cell_type": "code",
   "execution_count": null,
   "id": "92fb5ca9",
   "metadata": {},
   "outputs": [],
   "source": [
    "end_of_month.resample(\"W-FRI\").ffill().head()  # Forward fill"
   ]
  },
  {
   "cell_type": "markdown",
   "id": "c5a56f1c",
   "metadata": {},
   "source": [
    "## Rolling Windows"
   ]
  },
  {
   "cell_type": "code",
   "execution_count": null,
   "id": "35108872",
   "metadata": {},
   "outputs": [],
   "source": [
    "# Plot the moving average for MSFT with data from 2019\n",
    "msft19 = msft.loc[\"2019\", [\"Adj Close\"]].copy()\n",
    "# Add the 25 day moving average as a new column to the DataFrame\n",
    "msft19.loc[:, \"25day average\"] = msft19[\"Adj Close\"].rolling(25).mean()\n",
    "msft19.plot()"
   ]
  },
  {
   "cell_type": "markdown",
   "id": "4c8115b0",
   "metadata": {},
   "source": [
    "## If you can, avoid Excel files as data source\n",
    "\n",
    "`%%time` is a *cell magic* that prints the time spent in the cell  \n",
    "Use `%%timeit` to get the average of multiple runs"
   ]
  },
  {
   "cell_type": "code",
   "execution_count": null,
   "id": "01312d0c",
   "metadata": {},
   "outputs": [],
   "source": [
    "%%time\n",
    "parts = []  # List to collect individual DataFrames\n",
    "for ticker in [\"AAPL\", \"AMZN\", \"GOOGL\", \"MSFT\"]:\n",
    "    # \"usecols\" allows us to only read in the Date and Adj Close\n",
    "    adj_close = pd.read_excel(f\"xlsx/{ticker}.xlsx\",\n",
    "                            index_col=\"Date\", parse_dates=[\"Date\"],\n",
    "                            usecols=[\"Date\", \"Adj Close\"])\n",
    "    # Rename the column into the ticker symbol\n",
    "    adj_close = adj_close.rename(columns={\"Adj Close\": ticker})\n",
    "    # Append the stock's DataFrame to the parts list\n",
    "    parts.append(adj_close)"
   ]
  },
  {
   "cell_type": "code",
   "execution_count": null,
   "id": "a78e48dc",
   "metadata": {},
   "outputs": [],
   "source": [
    "%%time\n",
    "parts = []  # List to collect individual DataFrames\n",
    "for ticker in [\"AAPL\", \"AMZN\", \"GOOGL\", \"MSFT\"]:\n",
    "    # \"usecols\" allows us to only read in the Date and Adj Close\n",
    "    adj_close = pd.read_csv(f\"csv/{ticker}.csv\",\n",
    "                            index_col=\"Date\", parse_dates=[\"Date\"],\n",
    "                            usecols=[\"Date\", \"Adj Close\"])\n",
    "    # Rename the column into the ticker symbol\n",
    "    adj_close = adj_close.rename(columns={\"Adj Close\": ticker})\n",
    "    # Append the stock's DataFrame to the parts list\n",
    "    parts.append(adj_close)"
   ]
  }
 ],
 "metadata": {
  "kernelspec": {
   "display_name": "Python 3",
   "language": "python",
   "name": "python3"
  },
  "language_info": {
   "codemirror_mode": {
    "name": "ipython",
    "version": 3
   },
   "file_extension": ".py",
   "mimetype": "text/x-python",
   "name": "python",
   "nbconvert_exporter": "python",
   "pygments_lexer": "ipython3",
   "version": "3.7.4"
  }
 },
 "nbformat": 4,
 "nbformat_minor": 5
}
