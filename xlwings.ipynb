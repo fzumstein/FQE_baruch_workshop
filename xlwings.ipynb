{
 "cells": [
  {
   "cell_type": "markdown",
   "id": "6c1af2a5",
   "metadata": {},
   "source": [
    "# xlwings"
   ]
  },
  {
   "cell_type": "markdown",
   "id": "148fcbe5",
   "metadata": {},
   "source": [
    "**This notebook requires to be run locally on either Windows or macOS with Excel installed.**"
   ]
  },
  {
   "cell_type": "code",
   "execution_count": null,
   "id": "2c3b3aa4",
   "metadata": {},
   "outputs": [],
   "source": [
    "import datetime as dt\n",
    "import xlwings as xw\n",
    "import pandas as pd\n",
    "import numpy as np"
   ]
  },
  {
   "cell_type": "code",
   "execution_count": null,
   "id": "8bf3c068",
   "metadata": {},
   "outputs": [],
   "source": [
    "# Let's create a DataFrame based on pseudorandom numbers and\n",
    "# with enough rows that only the head and tail are shown\n",
    "df = pd.read_csv('csv/MSFT.csv', index_col='Date')\n",
    "df"
   ]
  },
  {
   "cell_type": "code",
   "execution_count": null,
   "id": "d0c4595b",
   "metadata": {},
   "outputs": [],
   "source": [
    "# This is only for interactive use, don't use this in a script!\n",
    "xw.view(df)"
   ]
  },
  {
   "cell_type": "markdown",
   "id": "96b09b4d",
   "metadata": {},
   "source": [
    "## The Excel Object Model"
   ]
  },
  {
   "cell_type": "code",
   "execution_count": null,
   "id": "ff99cb57",
   "metadata": {},
   "outputs": [],
   "source": [
    "book = xw.Book()\n",
    "book.name"
   ]
  },
  {
   "cell_type": "code",
   "execution_count": null,
   "id": "3326e223",
   "metadata": {},
   "outputs": [],
   "source": [
    "# Both lines do the same\n",
    "sheet1 = book.sheets[0]\n",
    "sheet1 = book.sheets[\"Sheet1\"]"
   ]
  },
  {
   "cell_type": "code",
   "execution_count": null,
   "id": "499d042c",
   "metadata": {},
   "outputs": [],
   "source": [
    "sheet1.range(\"A1\")"
   ]
  },
  {
   "cell_type": "code",
   "execution_count": null,
   "id": "e6c3d386",
   "metadata": {},
   "outputs": [],
   "source": [
    "# Most common tasks: write values...\n",
    "sheet1.range(\"A1\").value = [[1, 2],\n",
    "                            [3, 4]]\n",
    "sheet1.range(\"A4\").value = \"Hello!\""
   ]
  },
  {
   "cell_type": "code",
   "execution_count": null,
   "id": "6c0eb5e6",
   "metadata": {},
   "outputs": [],
   "source": [
    "# ... and read values\n",
    "sheet1.range(\"A1:B2\").value"
   ]
  },
  {
   "cell_type": "code",
   "execution_count": null,
   "id": "a2b0cf62",
   "metadata": {},
   "outputs": [],
   "source": [
    "sheet1.range(\"A4\").value"
   ]
  },
  {
   "cell_type": "code",
   "execution_count": null,
   "id": "d4eae5f1",
   "metadata": {},
   "outputs": [],
   "source": [
    "# or shorter:\n",
    "sheet1[\"A1\"].value"
   ]
  },
  {
   "cell_type": "code",
   "execution_count": null,
   "id": "cc623d6e",
   "metadata": {},
   "outputs": [],
   "source": [
    "# Now back up all the way\n",
    "sheet1[\"A1\"].sheet.book.app"
   ]
  },
  {
   "cell_type": "markdown",
   "id": "ec0ec855",
   "metadata": {},
   "source": [
    "## Working with pandas DataFrames"
   ]
  },
  {
   "cell_type": "code",
   "execution_count": null,
   "id": "f9b991ee",
   "metadata": {},
   "outputs": [],
   "source": [
    "# Writing\n",
    "sheet1[\"A6\"].value = df"
   ]
  },
  {
   "cell_type": "code",
   "execution_count": null,
   "id": "16b9cf4d",
   "metadata": {},
   "outputs": [],
   "source": [
    "# Reading\n",
    "sheet1[\"A6\"].expand().options('df').value"
   ]
  }
 ],
 "metadata": {
  "kernelspec": {
   "display_name": "Python 3",
   "language": "python",
   "name": "python3"
  },
  "language_info": {
   "codemirror_mode": {
    "name": "ipython",
    "version": 3
   },
   "file_extension": ".py",
   "mimetype": "text/x-python",
   "name": "python",
   "nbconvert_exporter": "python",
   "pygments_lexer": "ipython3",
   "version": "3.7.4"
  }
 },
 "nbformat": 4,
 "nbformat_minor": 5
}
